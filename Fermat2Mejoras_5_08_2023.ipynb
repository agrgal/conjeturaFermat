{
  "cells": [
    {
      "cell_type": "markdown",
      "metadata": {
        "id": "view-in-github",
        "colab_type": "text"
      },
      "source": [
        "<a href=\"https://colab.research.google.com/github/agrgal/conjeturaFermat/blob/main/Fermat2Mejoras_5_08_2023.ipynb\" target=\"_parent\"><img src=\"https://colab.research.google.com/assets/colab-badge.svg\" alt=\"Open In Colab\"/></a>"
      ]
    },
    {
      "cell_type": "markdown",
      "id": "9d677297-fae5-436f-88fa-c3033e8b34e1",
      "metadata": {
        "id": "9d677297-fae5-436f-88fa-c3033e8b34e1"
      },
      "source": [
        "# Introducción\n",
        "\n",
        "Intentar resolver la conjetura de Fermat es una arrogancia por mi parte. Pero también un divertimento que me ha llevado ratos desde hace unos tres años, ocupando el tiempo con algo tras las largas jornadas del confinamiento. No creo haberlo conseguido. Me falta competencia matemática para ello, evidentemente. Pero creo haber llegado a algunas conclusiones que, si no están erradas, pueden tener cierto interés. Pero no son suficientes para demostrar la conjetura.\n",
        "\n",
        "## Conjetura de Fermat\n",
        "\n",
        "La conjetura de Fermat dice: si n es un número entero mayor o igual que 3, entonces no existen números enteros positivos x, y y z, tales que se cumpla la igualdad...\n",
        "\n",
        "**$$x^n + y^n = z^n$$**"
      ]
    },
    {
      "cell_type": "markdown",
      "id": "0de8d858-d1be-4639-b0b1-49507b0ceab8",
      "metadata": {
        "id": "0de8d858-d1be-4639-b0b1-49507b0ceab8"
      },
      "source": [
        "## Consideraciones previas\n",
        "\n",
        "1. ¿Cómo tienen que ser estos números? Demostrar una trivialidad\n",
        "    1. $y^n > 0$, ya que “y” es un entero positivo y n es mayor que 3 y entero positivo.\n",
        "    1. Luego $x^n > 0$, ya que también \"x\"lo es.\n",
        "    1. Si sumo este término al anterior...\n",
        "        1. $x^n + y^n >x^n$\n",
        "        1. Simétricamente  $x^n + y^n >y^n$\n",
        "        1. Es decir, la suma de dos enteros elevados a la n-potencia (cumpliendo $n>=3$ y $x>0, y>0$) siempre será mayor que cualquiera de esos términos elevados a n\n",
        "    1. Luego un hipotético número z que cumpliese la igualdad, debe ser un número mayor que x, o mayor que y. No puede ser x, ni puede ser y, ni pueden ser números menores que y o x. $z>y$ y $z>x$\n",
        "1. Por tanto encuentro una cota de números para z.\n",
        "    1. $\\vee z \\in \\mathbb{Z}^{+} / z\\leqslant x \\;\\;o\\;\\; z\\leqslant y \\Rightarrow x^n+y^n>z^n$\n",
        "    1. Es decir, si z es menor o igual que x o z es menor o igual que y, nunca se cumplirá la igualdad. Siempre el término $z^n$ será menor que $x^n + y^n$.\n",
        "1. Como x, y son enteros positivos, y son distintos (si fuesen iguales la ecuación es trivial que no se cumple, ya que la solución z no es un número entero positivo), supongo que **y>x** a partir de este punto.\n",
        "1. Por lo tanto, hasta ahora sé que los números enteros positivos en el intervalo $z \\in [1,y]$ no cumplen la igualdad. ¿Qué ocurre con los números enteros a partir del y+1?  \n",
        "1. ***¿Cumple la igualdad algún número $z \\in [y+1, \\infty)$ ?***\n",
        "\n",
        "---\n",
        "\n",
        "### Desarrollo previo\n",
        "\n",
        "Quería seguir una intuición. Por ejemplo, tengo tres números consecutivos elevados a 3 (n=3): **7 , 8 y 9**. En este caso:\n",
        "* $7^3=343$\n",
        "* $8^3=512$\n",
        "* $9^3=729$ cuando $7^3+8^3=855$\n",
        "\n",
        "En este caso, elevar z al cubo resulta un número menor que la suma de los otros dos. Sin embargo, si con los mismos números voy aumentando el exponente llega un momento en que $z^n$ crece más que la suma $x^n+y^n$. Hay una inflexión en la desigualdad en algún punto entre $n^*$ y $n^*+1$. ¿Habrá algún caso en que se cumpliese la igualdad para un $n^*$?\n",
        "\n",
        "Por poner un ejemplo, para la terna siguiente, calculo varios exponentes partiendo de n=3.\n"
      ]
    },
    {
      "cell_type": "code",
      "execution_count": null,
      "id": "2b34ca25",
      "metadata": {
        "tags": [],
        "id": "2b34ca25",
        "outputId": "dc363d8d-f128-4004-fda3-c4309cb1c20d"
      },
      "outputs": [
        {
          "name": "stdout",
          "output_type": "stream",
          "text": [
            "Para la terna de números (11, 12, 13)\n"
          ]
        },
        {
          "data": {
            "text/html": [
              "<div style=\"font-size:14pt;\"><table>\n",
              "<thead>\n",
              "<tr><th style=\"text-align: right;\">  i</th><th style=\"text-align: right;\">  x</th><th style=\"text-align: right;\">  y</th><th style=\"text-align: right;\">  z</th><th style=\"text-align: right;\">       x^n</th><th style=\"text-align: right;\">       y^n</th><th style=\"text-align: right;\">   x^n+y^n</th><th style=\"text-align: right;\">        z^n</th><th>¿z^n&gt;suma?  </th></tr>\n",
              "</thead>\n",
              "<tbody>\n",
              "<tr><td style=\"text-align: right;\">  3</td><td style=\"text-align: right;\"> 11</td><td style=\"text-align: right;\"> 12</td><td style=\"text-align: right;\"> 13</td><td style=\"text-align: right;\">      1331</td><td style=\"text-align: right;\">      1728</td><td style=\"text-align: right;\">      3059</td><td style=\"text-align: right;\">       2197</td><td>menor       </td></tr>\n",
              "<tr><td style=\"text-align: right;\">  4</td><td style=\"text-align: right;\"> 11</td><td style=\"text-align: right;\"> 12</td><td style=\"text-align: right;\"> 13</td><td style=\"text-align: right;\">     14641</td><td style=\"text-align: right;\">     20736</td><td style=\"text-align: right;\">     35377</td><td style=\"text-align: right;\">      28561</td><td>menor       </td></tr>\n",
              "<tr><td style=\"text-align: right;\">  5</td><td style=\"text-align: right;\"> 11</td><td style=\"text-align: right;\"> 12</td><td style=\"text-align: right;\"> 13</td><td style=\"text-align: right;\">    161051</td><td style=\"text-align: right;\">    248832</td><td style=\"text-align: right;\">    409883</td><td style=\"text-align: right;\">     371293</td><td>menor       </td></tr>\n",
              "<tr><td style=\"text-align: right;\">  6</td><td style=\"text-align: right;\"> 11</td><td style=\"text-align: right;\"> 12</td><td style=\"text-align: right;\"> 13</td><td style=\"text-align: right;\">   1771561</td><td style=\"text-align: right;\">   2985984</td><td style=\"text-align: right;\">   4757545</td><td style=\"text-align: right;\">    4826809</td><td>mayor       </td></tr>\n",
              "<tr><td style=\"text-align: right;\">  7</td><td style=\"text-align: right;\"> 11</td><td style=\"text-align: right;\"> 12</td><td style=\"text-align: right;\"> 13</td><td style=\"text-align: right;\">  19487171</td><td style=\"text-align: right;\">  35831808</td><td style=\"text-align: right;\">  55318979</td><td style=\"text-align: right;\">   62748517</td><td>mayor       </td></tr>\n",
              "<tr><td style=\"text-align: right;\">  8</td><td style=\"text-align: right;\"> 11</td><td style=\"text-align: right;\"> 12</td><td style=\"text-align: right;\"> 13</td><td style=\"text-align: right;\"> 214358881</td><td style=\"text-align: right;\"> 429981696</td><td style=\"text-align: right;\"> 644340577</td><td style=\"text-align: right;\">  815730721</td><td>mayor       </td></tr>\n",
              "<tr><td style=\"text-align: right;\">  9</td><td style=\"text-align: right;\"> 11</td><td style=\"text-align: right;\"> 12</td><td style=\"text-align: right;\"> 13</td><td style=\"text-align: right;\">2357947691</td><td style=\"text-align: right;\">5159780352</td><td style=\"text-align: right;\">7517728043</td><td style=\"text-align: right;\">10604499373</td><td>mayor       </td></tr>\n",
              "</tbody>\n",
              "</table></div>"
            ],
            "text/plain": [
              "<IPython.core.display.HTML object>"
            ]
          },
          "metadata": {},
          "output_type": "display_data"
        }
      ],
      "source": [
        "from IPython.display import HTML, display\n",
        "from tabulate import tabulate\n",
        "\n",
        "x, y, z = 11,12,13\n",
        "data=[]\n",
        "\n",
        "print(f'Para la terna de números {x,y,z}')\n",
        "\n",
        "for i in range(3,10):\n",
        "    valor = 'mayor' if z**i>x**i+y**i  else 'menor'\n",
        "    data.append([i,x,y,z,x**i,y**i,x**i+y**i,z**i, valor])\n",
        "\n",
        "cadena = tabulate(data, headers=['i','x','y','z','x^n', 'y^n','x^n+y^n','z^n',\"¿z^n>suma?\"],tablefmt=\"html\")\n",
        "\n",
        "font_size = '14pt'\n",
        "html_code = f'<div style=\"font-size:{font_size};\">{cadena}</div>'\n",
        "display(HTML(html_code))\n"
      ]
    },
    {
      "cell_type": "markdown",
      "id": "23698c07-89a5-40f4-a77f-4c0eb8ac81df",
      "metadata": {
        "id": "23698c07-89a5-40f4-a77f-4c0eb8ac81df"
      },
      "source": [
        "En la que la tendencia es a que $z^n$ es un número mayor que la suma $x^n+ y^n$, a partir de $n \\geq 4$\n",
        "\n",
        "* Supongamos que elegimos un número $y \\in \\mathbb{Z}^{+} / y> 2$. Lo elevo a n. ¿Con qué número x - elevado a n - al sumarlo al “y-ene” dará la máxima suma (Teniendo en cuenta de que siempre $x<y$)? Evidentemente con justo el anterior (y-1). Así que, elegido un número “y” la máxima suma se produce cuando escojo x = y-1\n",
        "\n",
        "* Por ejemplo, sea n=4. Si tomo el valor de y=4 también, tendría el punto $A=[4,256]$. La suma se haría máxima con el valor de $x = y -1 = 3$ en el punto $B=[3,81]$\n"
      ]
    },
    {
      "cell_type": "code",
      "execution_count": null,
      "id": "05a3c030-438d-4dbb-b856-c1f931c3a4f9",
      "metadata": {
        "tags": [
          "hide_code"
        ],
        "id": "05a3c030-438d-4dbb-b856-c1f931c3a4f9",
        "outputId": "70ca5d36-d6d4-4bf6-9ac5-7417927e4b44"
      },
      "outputs": [
        {
          "data": {
            "image/png": "[encoded data removed]",
            "text/plain": [
              "<Figure size 640x480 with 1 Axes>"
            ]
          },
          "metadata": {},
          "output_type": "display_data"
        }
      ],
      "source": [
        "import matplotlib.pyplot as plt\n",
        "import numpy as np\n",
        "\n",
        "def funcion_x4(x):\n",
        "    return x**4\n",
        "\n",
        "# Generamos puntos para el gráfico\n",
        "x_vals = np.linspace(-0.1, 5.5, 200)\n",
        "y_vals = funcion_x4(x_vals)\n",
        "\n",
        "# Puntos a marcar\n",
        "x_puntos = [3, 4, 5]\n",
        "y_puntos = [funcion_x4(x) for x in x_puntos]\n",
        "\n",
        "# Configuración del gráfico\n",
        "plt.plot(x_vals, y_vals, label='$x^4$',color='green')\n",
        "plt.scatter(x_puntos, y_puntos, color='red', label='Puntos')\n",
        "\n",
        "# Etiquetas y título del gráfico\n",
        "plt.xlabel('x')\n",
        "plt.ylabel('y')\n",
        "plt.title('Gráfico de la función $x^4$')\n",
        "\n",
        "# Leyenda\n",
        "plt.legend()\n",
        "\n",
        "# Mostrar los valores de los puntos en la gráfica\n",
        "for x, y in zip(x_puntos, y_puntos):\n",
        "    plt.text(x+0.1, y+2, f'[{x}, {y}]', ha='right' if x == 3 else 'left', va='bottom')\n",
        "\n",
        "# Líneas verticales desde los puntos hasta los ejes de abscisas\n",
        "for x, y in zip(x_puntos, y_puntos):\n",
        "    plt.plot([x, x], [0, y], linestyle='dashed', color='gray')\n",
        "    plt.plot([0, x], [y, y], linestyle='dashed', color='gray')\n",
        "\n",
        "# Mostrar el gráfico\n",
        "plt.grid(False)\n",
        "plt.axhline(0, color='darkblue', linewidth=1)\n",
        "plt.axvline(0, color='darkblue', linewidth=1)\n",
        "plt.show()\n"
      ]
    },
    {
      "cell_type": "markdown",
      "id": "26553152-9ff5-4d14-9639-f23efab1c3be",
      "metadata": {
        "id": "26553152-9ff5-4d14-9639-f23efab1c3be"
      },
      "source": [
        "* Cabe preguntarse ahora, si el siguiente número mayor que 4, z=5, al elevarlo a n=4 ¿Es mayor o menor que la suma de los otros dos términos elevados a n? Evidentemente si escogemos números z a partir de 5, crecientes, llegará un punto en que sea siempre $z^n > (y-1)^n + y^n$\n",
        "\n"
      ]
    },
    {
      "cell_type": "markdown",
      "id": "29356e9f-804d-43c0-85a0-713f8b4e6ecb",
      "metadata": {
        "id": "29356e9f-804d-43c0-85a0-713f8b4e6ecb"
      },
      "source": [
        "* Por lo tanto, podemos afirmar que existe un número m entero positivo, que sumado al número \"y\" y elevado a \"n\" será mayor que la suma de los términos y e y-1 (elevados a la n-ésima potencia).  \n",
        "\n",
        "    $$ \\exists m \\in \\mathbb{Z}^{+} \\; / \\; (y+m)^n > (y-1)^n+y^n $$"
      ]
    },
    {
      "cell_type": "markdown",
      "id": "f3509da1-cac2-4004-976a-ada0747cb82b",
      "metadata": {
        "id": "f3509da1-cac2-4004-976a-ada0747cb82b"
      },
      "source": [
        "* Nunca se cumpliría en el caso en que m=0. Ya lo hemos razonado en el punto 1.D de las consideraciones previas. En principio, $m \\in [1,\\infty) $"
      ]
    },
    {
      "cell_type": "markdown",
      "id": "b62b9df3-265e-4703-aa12-6c1781009138",
      "metadata": {
        "id": "b62b9df3-265e-4703-aa12-6c1781009138"
      },
      "source": [
        "* Se demostraría que la igualdad que expresa $x^n+y^n = z^n$ no se cumple nunca **estrictamente** si somos capaces de demostrar que, para cualquier n...\n",
        "\n",
        " $$ \\exists \\;m \\; \\in \\mathbb{Z}^{+} \\; / \\; (y+m)^n > (y-1)^n+y^n > (y+m-1)^n $$\n",
        "\n",
        " * Y si existiese ese número m, nunca sería un entero positivo $ (y+m)^n = (y-1)^n+y^n \\; \\Rightarrow \\; m \\notin \\mathbb{Z}^+ $.  \n",
        "\n",
        "---\n",
        "\n",
        "### Caso m=1\n",
        "\n",
        " En el caso m=1, la segunda parte de la desigualdad es trivial, siempre se cumple, ya que $(y-1)^n+y^n > y^n$\n",
        "\n",
        "#### Y para la primera parte de la igualdad $(y+1)^n>(y-1)^n+y^n$\n",
        "\n",
        "$$ (y+1)^n= \\binom{n}{0} y^n + \\binom{n}{1} y^{n-1} + \\binom{n}{2} y^{n-2} +.... + \\binom{n}{n-1} y + \\binom{n}{n}$$\n",
        "\n",
        "$$(y+1)^n = \\sum_{k=0}^{n}  \\binom{n}{k} y^{n-k} $$\n",
        "\n",
        "$$(y-1)^n= \\binom{n}{0} y^n - \\binom{n}{1} y^{n-1} + \\binom{n}{2} y^{n-2} +.... - \\binom{n}{n-1} y + \\binom{n}{n} $$\n",
        "\n",
        "$$(y-1)^n = \\sum_{k=0}^{n}  \\binom{n}{k} y^{n-k} \\cdot (-1)^k $$\n",
        "\n",
        "Puedo restar en ambos miembros de la desigualdad la cantidad positiva $(y-1)^n$ sin alterarla.\n",
        "\n",
        "$$(y+1)^n - (y-1)^n > y^n$$\n",
        "\n",
        "Por lo tanto, se cancelan los términos donde k es par y se suman los términos donde k es impar. Luego si…\n",
        "\n",
        "$$ 2 \\cdot \\left [\\binom{n}{1} y^{n-1} + \\binom{n}{3} y^{n-3} +...   \\right ]> y^n $$\n",
        "\n",
        "$$ k = 2p -1 \\;,\\; donde \\;p\\in [1,\\beta] \\;siendo\\;\\beta= {{n} \\over{2}} \\;con\\; n\\; par\\;y\\;\\beta= {{n+1} \\over{2}}\\;con\\; n\\; impar\\\n",
        "$$\n",
        "\n",
        "$$ 2 \\cdot \\left [\\sum_{p=1}^{\\beta}   \\binom{n}{2p-1} y^{n-(2p-1)}\\right ] > y^n $$\n",
        "\n",
        "$$ 2 \\cdot y^n \\cdot \\left [\\sum_{p=1}^{\\beta}   \\binom{n}{2p-1} \\frac{1}{y^{(2p-1)}}\\right ] > y^n\n",
        "$$\n",
        "\n",
        "Divido ambos miembros entre $y^n$ y reordeno:\n",
        "\n",
        "$$\\sum_{p=1}^{\\beta}   \\binom{n}{2p-1} \\frac{1}{y^{(2p-1)}} > \\frac{1}{2}\n",
        " $$\n",
        "\n",
        "$$\\sum_{p=1}^{\\beta}   \\binom{n}{2p-1} \\frac{1}{y^{(2p-1)}} = \\binom{n}{1} \\frac{1}{y} + \\binom{n}{3} \\frac{1}{y^3}+... = \\frac{n!}{1!(n-1)!)}\\frac{1}{y} + \\frac{n!}{3!(n-3)!)}\\frac{1}{y^3}+...>\\frac{1}{2} $$\n",
        "\n",
        "$$[A] \\;\\; \\frac{n}{y}+\\frac{n \\cdot (n-1) \\cdot (n-2)}{6} \\cdot \\frac{1}{y^3} +...> \\frac{1}{2} $$\n",
        "\n",
        "¿Qué podemos decir de la expresión [A]?\n",
        "\n",
        "* Si $n/y>1/2$ la expresión A se cumple, ya que los términos segundo y posteriores son siempre positivos.\n",
        "* Si $n/y=1/2$ la expresión A se cumple, ya que al sumarse segundo y posteriores términos dicha expresión A es mayor que 1/2.\n",
        "\n",
        "Podríamos entonces afirmar que:\n",
        "\n",
        "***$$ \\vee x,y,z \\in \\mathbb{Z}^{+}, \\vee n \\in \\mathbb{N} / \\; n\\geq 3\\: ,\\: x<y,z>y,\\; si\\; n\\geq y/2 \\Rightarrow z^n > x^n + y^n $$***\n",
        "\n",
        "En el siguiente ejemplo:  \n",
        "\n",
        "* Se obtiene un número aleatorio 'y' entre 6 y 50\n",
        "    * 6 cumple que $3 \\geq 6/2$ (empezar en n=3). El número 50 es un límite superior.\n",
        "* Se calcula el número x = y -1\n",
        "* Se obtiene el primer número n que cumple que $n \\geq y/2$\n",
        "* Se genera un barrido de números a partir del z = y+1 manteniendo 'n'\n",
        "* Se genera otro barrido de números con z = y +1, esta vez aumentando los exponentes 'n'.\n",
        "* Se observa que siempre, en cualquier caso, $z^n$ es mayor que $x^n+y^n$"
      ]
    },
    {
      "cell_type": "code",
      "execution_count": null,
      "id": "df411f2d-9509-4c5e-8a2e-69e532d5bb00",
      "metadata": {
        "tags": [],
        "id": "df411f2d-9509-4c5e-8a2e-69e532d5bb00",
        "outputId": "ca133049-d644-47f7-bb9b-568820a7fd5d"
      },
      "outputs": [
        {
          "name": "stdout",
          "output_type": "stream",
          "text": [
            "Caso para x: 36 e y:37 con el valor del exponente n fijo a 19\n"
          ]
        },
        {
          "data": {
            "text/html": [
              "<div style=\"font-size:14pt;\"><table>\n",
              "<thead>\n",
              "<tr><th style=\"text-align: right;\">  n</th><th style=\"text-align: right;\">  x</th><th style=\"text-align: right;\">  y</th><th style=\"text-align: right;\">  z</th><th style=\"text-align: right;\">                       x^n+y^n</th><th style=\"text-align: right;\">                             z^n</th><th>¿z^n&gt;suma?  </th></tr>\n",
              "</thead>\n",
              "<tbody>\n",
              "<tr><td style=\"text-align: right;\"> 19</td><td style=\"text-align: right;\"> 36</td><td style=\"text-align: right;\"> 37</td><td style=\"text-align: right;\"> 38</td><td style=\"text-align: right;\">996251283736501407410467295389</td><td style=\"text-align: right;\"> 1037261684426834491014632701952</td><td>mayor       </td></tr>\n",
              "<tr><td style=\"text-align: right;\"> 19</td><td style=\"text-align: right;\"> 36</td><td style=\"text-align: right;\"> 37</td><td style=\"text-align: right;\"> 39</td><td style=\"text-align: right;\">996251283736501407410467295389</td><td style=\"text-align: right;\"> 1699133621328831977374894383159</td><td>mayor       </td></tr>\n",
              "<tr><td style=\"text-align: right;\"> 19</td><td style=\"text-align: right;\"> 36</td><td style=\"text-align: right;\"> 37</td><td style=\"text-align: right;\"> 40</td><td style=\"text-align: right;\">996251283736501407410467295389</td><td style=\"text-align: right;\"> 2748779069440000000000000000000</td><td>mayor       </td></tr>\n",
              "<tr><td style=\"text-align: right;\"> 19</td><td style=\"text-align: right;\"> 36</td><td style=\"text-align: right;\"> 37</td><td style=\"text-align: right;\"> 41</td><td style=\"text-align: right;\">996251283736501407410467295389</td><td style=\"text-align: right;\"> 4394336169668803158610484050361</td><td>mayor       </td></tr>\n",
              "<tr><td style=\"text-align: right;\"> 19</td><td style=\"text-align: right;\"> 36</td><td style=\"text-align: right;\"> 37</td><td style=\"text-align: right;\"> 42</td><td style=\"text-align: right;\">996251283736501407410467295389</td><td style=\"text-align: right;\"> 6946027806565873025328496508928</td><td>mayor       </td></tr>\n",
              "<tr><td style=\"text-align: right;\"> 19</td><td style=\"text-align: right;\"> 36</td><td style=\"text-align: right;\"> 37</td><td style=\"text-align: right;\"> 43</td><td style=\"text-align: right;\">996251283736501407410467295389</td><td style=\"text-align: right;\">10861771343660416614908294685907</td><td>mayor       </td></tr>\n",
              "<tr><td style=\"text-align: right;\"> 19</td><td style=\"text-align: right;\"> 36</td><td style=\"text-align: right;\"> 37</td><td style=\"text-align: right;\"> 44</td><td style=\"text-align: right;\">996251283736501407410467295389</td><td style=\"text-align: right;\">16811282773058972887713478344704</td><td>mayor       </td></tr>\n",
              "<tr><td style=\"text-align: right;\"> 19</td><td style=\"text-align: right;\"> 36</td><td style=\"text-align: right;\"> 37</td><td style=\"text-align: right;\"> 45</td><td style=\"text-align: right;\">996251283736501407410467295389</td><td style=\"text-align: right;\">25765451768359987049102783203125</td><td>mayor       </td></tr>\n",
              "<tr><td style=\"text-align: right;\"> 19</td><td style=\"text-align: right;\"> 36</td><td style=\"text-align: right;\"> 37</td><td style=\"text-align: right;\"> 46</td><td style=\"text-align: right;\">996251283736501407410467295389</td><td style=\"text-align: right;\">39119996021684678459081876832256</td><td>mayor       </td></tr>\n",
              "</tbody>\n",
              "</table></div>"
            ],
            "text/plain": [
              "<IPython.core.display.HTML object>"
            ]
          },
          "metadata": {},
          "output_type": "display_data"
        },
        {
          "name": "stdout",
          "output_type": "stream",
          "text": [
            "Caso para y: 37 y z:38 y aumenten los exponentes\n"
          ]
        },
        {
          "data": {
            "text/html": [
              "<div style=\"font-size:14pt;\"><table>\n",
              "<thead>\n",
              "<tr><th style=\"text-align: right;\">  n</th><th style=\"text-align: right;\">  x</th><th style=\"text-align: right;\">  y</th><th style=\"text-align: right;\">  z</th><th style=\"text-align: right;\">                                      x^n+y^n</th><th style=\"text-align: right;\">                                          z^n</th><th>¿z^n&gt;suma?  </th></tr>\n",
              "</thead>\n",
              "<tbody>\n",
              "<tr><td style=\"text-align: right;\"> 19</td><td style=\"text-align: right;\"> 36</td><td style=\"text-align: right;\"> 37</td><td style=\"text-align: right;\"> 38</td><td style=\"text-align: right;\">               996251283736501407410467295389</td><td style=\"text-align: right;\">              1037261684426834491014632701952</td><td>mayor       </td></tr>\n",
              "<tr><td style=\"text-align: right;\"> 20</td><td style=\"text-align: right;\"> 36</td><td style=\"text-align: right;\"> 37</td><td style=\"text-align: right;\"> 38</td><td style=\"text-align: right;\">             36489978205504892794525099763377</td><td style=\"text-align: right;\">             39415944008219710658556042674176</td><td>mayor       </td></tr>\n",
              "<tr><td style=\"text-align: right;\"> 21</td><td style=\"text-align: right;\"> 36</td><td style=\"text-align: right;\"> 37</td><td style=\"text-align: right;\"> 38</td><td style=\"text-align: right;\">           1336761699064837299329589845268373</td><td style=\"text-align: right;\">           1497805872312349005025129621618688</td><td>mayor       </td></tr>\n",
              "<tr><td style=\"text-align: right;\"> 22</td><td style=\"text-align: right;\"> 36</td><td style=\"text-align: right;\"> 37</td><td style=\"text-align: right;\"> 38</td><td style=\"text-align: right;\">          48978953062000605648752625819773065</td><td style=\"text-align: right;\">          56916623147869262190954925621510144</td><td>mayor       </td></tr>\n",
              "<tr><td style=\"text-align: right;\"> 23</td><td style=\"text-align: right;\"> 36</td><td style=\"text-align: right;\"> 37</td><td style=\"text-align: right;\"> 38</td><td style=\"text-align: right;\">        1794896990371680929651928010945960909</td><td style=\"text-align: right;\">        2162831679619031963256287173617385472</td><td>mayor       </td></tr>\n",
              "<tr><td style=\"text-align: right;\"> 24</td><td style=\"text-align: right;\"> 36</td><td style=\"text-align: right;\"> 37</td><td style=\"text-align: right;\"> 38</td><td style=\"text-align: right;\">       65787514818547901140452247207117423777</td><td style=\"text-align: right;\">       82187603825523214603738912597460647936</td><td>mayor       </td></tr>\n",
              "<tr><td style=\"text-align: right;\"> 25</td><td style=\"text-align: right;\"> 36</td><td style=\"text-align: right;\"> 37</td><td style=\"text-align: right;\"> 38</td><td style=\"text-align: right;\">     2411685790578917784956645935539552004933</td><td style=\"text-align: right;\">     3123128945369882154942078678703504621568</td><td>mayor       </td></tr>\n",
              "<tr><td style=\"text-align: right;\"> 26</td><td style=\"text-align: right;\"> 36</td><td style=\"text-align: right;\"> 37</td><td style=\"text-align: right;\"> 38</td><td style=\"text-align: right;\">    88424092973955193982752760014506887889145</td><td style=\"text-align: right;\">   118678899924055521887798989790733175619584</td><td>mayor       </td></tr>\n",
              "<tr><td style=\"text-align: right;\"> 27</td><td style=\"text-align: right;\"> 36</td><td style=\"text-align: right;\"> 37</td><td style=\"text-align: right;\"> 38</td><td style=\"text-align: right;\">  3242593314047610671178699094920319545336829</td><td style=\"text-align: right;\">  4509798197114109831736361612047860673544192</td><td>mayor       </td></tr>\n",
              "<tr><td style=\"text-align: right;\"> 28</td><td style=\"text-align: right;\"> 36</td><td style=\"text-align: right;\"> 37</td><td style=\"text-align: right;\"> 38</td><td style=\"text-align: right;\">118928420084167260611018357589860152141247377</td><td style=\"text-align: right;\">171372331490336173605981741257818705594679296</td><td>mayor       </td></tr>\n",
              "</tbody>\n",
              "</table></div>"
            ],
            "text/plain": [
              "<IPython.core.display.HTML object>"
            ]
          },
          "metadata": {},
          "output_type": "display_data"
        }
      ],
      "source": [
        "from IPython.display import HTML, display\n",
        "from tabulate import tabulate\n",
        "import random, math\n",
        "\n",
        "def generar_numero_aleatorio(a, b):\n",
        "    return random.randint(a, b)\n",
        "\n",
        "data=[]\n",
        "data2=[]\n",
        "\n",
        "# generamos el número y\n",
        "y = generar_numero_aleatorio(6,50) # a partir de n=3 , entonces y=6\n",
        "x = y-1\n",
        "\n",
        "# generamos un número n, n>=y/2\n",
        "n =  math.ceil(y/2)\n",
        "\n",
        "print(f'Caso para x: {x} e y:{y} con el valor del exponente n fijo a {n}')\n",
        "\n",
        "for z in range(y+1,y+10):\n",
        "    valor = 'mayor' if z**n>x**n+y**n  else 'menor'\n",
        "    data.append([n,x,y,z,x**n+y**n,z**n, valor])\n",
        "\n",
        "cadena = tabulate(data, headers=['n','x','y','z','x^n+y^n','z^n',\"¿z^n>suma?\"],tablefmt=\"html\")\n",
        "\n",
        "font_size = '14pt'\n",
        "html_code = f'<div style=\"font-size:{font_size};\">{cadena}</div>'\n",
        "display(HTML(html_code))\n",
        "\n",
        "z=y+1\n",
        "print(f'Caso para y: {y} y z:{z} y aumenten los exponentes')\n",
        "\n",
        "for i in range(n,n+10):\n",
        "    valor = 'mayor' if z**i>x**i+y**i  else 'menor'\n",
        "    data2.append([i,x,y,z,x**i+y**i,z**i, valor])\n",
        "\n",
        "cadena2 = tabulate(data2, headers=['n','x','y','z','x^n+y^n','z^n',\"¿z^n>suma?\"],tablefmt=\"html\")\n",
        "\n",
        "font_size = '14pt'\n",
        "html_code = f'<div style=\"font-size:{font_size};\">{cadena2}</div>'\n",
        "display(HTML(html_code))"
      ]
    },
    {
      "cell_type": "markdown",
      "id": "7c2d5576-feff-44d2-8b3b-4c252d60f429",
      "metadata": {
        "id": "7c2d5576-feff-44d2-8b3b-4c252d60f429"
      },
      "source": [
        "---\n",
        "\n",
        "### Caso m>1\n",
        "\n",
        "Ya hemos demostrado que si m=1, la desigualdad $(y+1)^n>(y-1)^n+y^n$ se cumple siempre que $n \\geq y/2$. Cabe ahora preguntarse. ¿Y si se cumple...?\n",
        "\n",
        "- $n \\geq 3$, la condición del enunciado.\n",
        "- $n/y<1/2$, condición contraria a la considerada en el apartado anterior. Luego $y>2n$.\n",
        "\n",
        "* ¿Podremos calcular un **m** que cumpla...? $$ \\exists \\;m \\; \\in \\mathbb{Z}^{+} \\; / \\; (y+m)^n > (y-1)^n+y^n > (y+m-1)^n $$\n",
        "\n",
        "#### Parte derecha de la desigualdad $(y+m)^n > (y-1)^n+y^n$\n",
        "\n",
        "$$ y^n + \\sum_{k=1}^{n} \\binom{n}{k} \\cdot y^{n-k} \\cdot m^k > {(y-1)}^n + y^n $$\n",
        "\n",
        "$$ \\sum_{k=1}^{n} \\binom{n}{k} \\cdot y^{n-k} \\cdot m^k > {(y-1)}^n $$\n",
        "\n",
        "$$ n \\cdot y^{n-1} \\cdot m + \\sum_{k=2}^{n} \\binom{n}{k} \\cdot y^{n-k} \\cdot m^k > {(y-1)}^n $$\n",
        "\n",
        "Voy a considerar que este primer término del desarrollo del binomio, el de mayor exponente (dominante), ya es mayor que $(y-1)^n$, entonces  $ n \\cdot y^{n-1} \\cdot m > {(y-1)}^n $. Si fuera así...\n",
        "\n",
        "$$  m>\\frac{ {(y-1)}^n}{n \\cdot y^{n-1}} $$\n",
        "\n",
        "Lo que nos daría un límite inferior para m.\n",
        "\n",
        "#### Parte izquierda de la desigualdad $(y-1)^n+y^n > (y+m-1)^n$\n",
        "\n",
        "$$ {(y-1)}^n + y^n > {(y-1)}^n + \\sum_{k=1}^{n} \\binom{n}{k} \\cdot {(y-1)}^{n-k} \\cdot m^k $$\n",
        "\n",
        "$$ y^n >  \\sum_{k=1}^{n} \\binom{n}{k} \\cdot {(y-1)}^{n-k} \\cdot m^k $$\n",
        "\n",
        "$$ y^n >  n \\cdot {(y-1)}^{n-1} \\cdot m + \\sum_{k=2}^{n} \\binom{n}{k} \\cdot {(y-1)}^{n-k} \\cdot m^k $$\n",
        "\n",
        "Y de forma análoga a lo anterior, si $y^n$ es mayor que toda la expresión, también lo es del primer término: $  y^n >  n \\cdot {(y-1)}^{n-1} \\cdot m$. Luego obtengo una cota superior para 'm':\n",
        "\n",
        "$$ m < \\frac{y^n}{ n \\cdot {(y-1)}^{n-1} \\cdot} $$\n",
        "\n",
        "---\n",
        "\n",
        "Por lo tanto, encontramos cotas superiores e inferiores para 'm'\n",
        "\n",
        "$$ \\frac{y^n}{ n \\cdot {(y-1)}^{n-1} \\cdot} > m > \\frac{(y-1)^n}{ n \\cdot {y}^{n-1} \\cdot} $$\n",
        "\n",
        "- Podemos observar que $ \\frac{y^n}{ n \\cdot {(y-1)}^{n-1} \\cdot} > \\frac{(y-1)^n}{ n \\cdot {y}^{n-1} \\cdot} $ es trivialmente cierto, ya que, operando $y^n \\cdot y^{n-1} > {(y-1)}^n \\cdot {(y-1)}^{n-1}$\n",
        "\n",
        "- En el siguiente ejemplo, genero exponentes aleatorios a partir del número 3, y escogemos números 'y' mayores de 2n. Con esos valores, se puede observar que podemos calcular un intervalo para m, donde siempre existe al menos un valor entero positivo en el que se cumple la premisa $(y+m)^n > (y-1)^n+y^n > (y+m-1)^n$\n",
        "\n",
        "* Se muestran los logaritmos de los términos elevados a 'n' por razones de espacio."
      ]
    },
    {
      "cell_type": "code",
      "execution_count": 1,
      "id": "f0842eb3-5488-4809-88ec-1667a0b49bdc",
      "metadata": {
        "colab": {
          "base_uri": "https://localhost:8080/",
          "height": 298
        },
        "id": "f0842eb3-5488-4809-88ec-1667a0b49bdc",
        "outputId": "bbf5b614-f6e3-4aef-a6ff-6214d001c628"
      },
      "outputs": [
        {
          "output_type": "stream",
          "name": "stdout",
          "text": [
            "Caso para n: 4 e y:9 ; datos: [1, 2, 3, 4, 5, 6, 7, 8]\n",
            "Caso para n: 4 e y:9 ; msup:3.20361328125 [3] y minf:1.4046639231824416 [2]\n"
          ]
        },
        {
          "output_type": "display_data",
          "data": {
            "text/plain": [
              "<IPython.core.display.HTML object>"
            ],
            "text/html": [
              "<div style=\"font-size:14pt;\"><table>\n",
              "<thead>\n",
              "<tr><th style=\"text-align: right;\">  n</th><th style=\"text-align: right;\">  x</th><th style=\"text-align: right;\">  y</th><th style=\"text-align: right;\">  z</th><th>m  </th><th style=\"text-align: right;\">  ln(x^n+y^n)</th><th style=\"text-align: right;\">  ln(z^n)</th><th>¿z^n&gt;suma?  </th></tr>\n",
              "</thead>\n",
              "<tbody>\n",
              "<tr><td style=\"text-align: right;\">  4</td><td style=\"text-align: right;\">  8</td><td style=\"text-align: right;\">  9</td><td style=\"text-align: right;\"> 10</td><td>-  </td><td style=\"text-align: right;\">      9.27397</td><td style=\"text-align: right;\">  9.21034</td><td>menor       </td></tr>\n",
              "<tr><td style=\"text-align: right;\">  4</td><td style=\"text-align: right;\">  8</td><td style=\"text-align: right;\">  9</td><td style=\"text-align: right;\"> 11</td><td>inf</td><td style=\"text-align: right;\">      9.27397</td><td style=\"text-align: right;\">  9.59158</td><td>mayor       </td></tr>\n",
              "<tr><td style=\"text-align: right;\">  4</td><td style=\"text-align: right;\">  8</td><td style=\"text-align: right;\">  9</td><td style=\"text-align: right;\"> 12</td><td>sup</td><td style=\"text-align: right;\">      9.27397</td><td style=\"text-align: right;\">  9.93963</td><td>mayor       </td></tr>\n",
              "<tr><td style=\"text-align: right;\">  4</td><td style=\"text-align: right;\">  8</td><td style=\"text-align: right;\">  9</td><td style=\"text-align: right;\"> 13</td><td>-  </td><td style=\"text-align: right;\">      9.27397</td><td style=\"text-align: right;\"> 10.2598 </td><td>mayor       </td></tr>\n",
              "<tr><td style=\"text-align: right;\">  4</td><td style=\"text-align: right;\">  8</td><td style=\"text-align: right;\">  9</td><td style=\"text-align: right;\"> 14</td><td>-  </td><td style=\"text-align: right;\">      9.27397</td><td style=\"text-align: right;\"> 10.5562 </td><td>mayor       </td></tr>\n",
              "<tr><td style=\"text-align: right;\">  4</td><td style=\"text-align: right;\">  8</td><td style=\"text-align: right;\">  9</td><td style=\"text-align: right;\"> 15</td><td>-  </td><td style=\"text-align: right;\">      9.27397</td><td style=\"text-align: right;\"> 10.8322 </td><td>mayor       </td></tr>\n",
              "<tr><td style=\"text-align: right;\">  4</td><td style=\"text-align: right;\">  8</td><td style=\"text-align: right;\">  9</td><td style=\"text-align: right;\"> 16</td><td>-  </td><td style=\"text-align: right;\">      9.27397</td><td style=\"text-align: right;\"> 11.0904 </td><td>mayor       </td></tr>\n",
              "<tr><td style=\"text-align: right;\">  4</td><td style=\"text-align: right;\">  8</td><td style=\"text-align: right;\">  9</td><td style=\"text-align: right;\"> 17</td><td>-  </td><td style=\"text-align: right;\">      9.27397</td><td style=\"text-align: right;\"> 11.3329 </td><td>mayor       </td></tr>\n",
              "</tbody>\n",
              "</table></div>"
            ]
          },
          "metadata": {}
        }
      ],
      "source": [
        "from IPython.display import HTML, display\n",
        "from tabulate import tabulate\n",
        "import random, math\n",
        "\n",
        "def generar_numero_aleatorio(a, b):\n",
        "    return random.randint(a, b)\n",
        "\n",
        "data=[]\n",
        "data2=[]\n",
        "\n",
        "# generamos el número n\n",
        "n = generar_numero_aleatorio(3,5) # a partir de n=3\n",
        "# n = 8\n",
        "# y = generar_numero_aleatorio(2*n+1,2*n+200) # y tiene que ser mayor que 2n\n",
        "y = 2*n+1\n",
        "x = y -1\n",
        "\n",
        "# Los límites calculados para m.\n",
        "msup = (y**n)/(n*(y-1)**(n-1))\n",
        "minf = ((y-1)**n)/(n*y**(n-1))\n",
        "\n",
        "data2 = list(range(math.ceil(minf)-5,math.floor(msup)+5+1,1)) #rango 5 por abajo y 5 por arriba\n",
        "data2 = [x for x in data2 if x>0] # me quedo solo con los positivos\n",
        "\n",
        "print(f'Caso para n: {n} e y:{y} ; datos: {data2}')\n",
        "\n",
        "print(f'Caso para n: {n} e y:{y} ; msup:{msup} [{math.floor(msup)}] y minf:{minf} [{math.ceil(minf)}]')\n",
        "\n",
        "\n",
        "for m in data2: #por cada valor de m\n",
        "    z = y+m\n",
        "    valor = 'mayor' if z**n>x**n+y**n  else 'menor'\n",
        "    mm = 'inf' if m==math.ceil(minf) else 'sup' if m==math.floor(msup) else '-'\n",
        "    data.append([n,x,y,z,mm,math.log(x**n+y**n),math.log(z**n), valor])\n",
        "\n",
        "cadena = tabulate(data, headers=['n','x','y','z','m','ln(x^n+y^n)','ln(z^n)',\"¿z^n>suma?\"],tablefmt=\"html\")\n",
        "\n",
        "font_size = '14pt'\n",
        "html_code = f'<div style=\"font-size:{font_size};\">{cadena}</div>'\n",
        "display(HTML(html_code))\n"
      ]
    },
    {
      "cell_type": "markdown",
      "id": "fca5a7b7-d8f4-44b2-8a9f-dd794dec9f83",
      "metadata": {
        "id": "fca5a7b7-d8f4-44b2-8a9f-dd794dec9f83"
      },
      "source": [
        "* Al operar en el ejemplo anterior podemos observar que el límite inferior de 'm' no está bien calculado con la consideración anterior. En muchos casos existen 'm' inferiores al calculado que aún cumplen la condición de ser $(y+m)^n > (y-1)^n+y^n$. Se necesita un mejor ajuste de la cota inferior para 'm'.\n",
        "\n",
        "---\n",
        "\n",
        "### Considero tener en cuenta el segundo término del binomio para la cota inferior\n",
        "\n",
        "#### Parte derecha de la desigualdad $(y+m)^n > (y-1)^n+y^n$\n",
        "\n",
        "$$ y^n + \\sum_{k=1}^{n} \\binom{n}{k} \\cdot y^{n-k} \\cdot m^k > {(y-1)}^n + y^n $$\n",
        "\n",
        "$$ \\sum_{k=1}^{n} \\binom{n}{k} \\cdot y^{n-k} \\cdot m^k > {(y-1)}^n $$\n",
        "\n",
        "$$ n \\cdot y^{n-1} \\cdot m + \\frac{n \\cdot (n-1)}{2} \\cdot y^{n-2} \\cdot m^2 + \\sum_{k=3}^{n} \\binom{n}{k} \\cdot y^{n-k} \\cdot m^k > {(y-1)}^n $$\n",
        "\n",
        "$$ n \\cdot y^{n-1} \\cdot m + \\frac{n \\cdot (n-1)}{2} \\cdot y^{n-2} \\cdot m^2 > {(y-1)}^n $$\n",
        "\n",
        "Operando,y teniendo en cuenta los dos primeros términos del binomio,  tenemos que...\n",
        "\n",
        "$$ m + \\frac{\\left (n-1  \\right )}{2} \\cdot  \\frac{1}{y} \\cdot m^2 >\\frac{ {(y-1)}^n}{n \\cdot y^{n-1}} $$\n",
        "\n",
        "Podremos obtener un valor de m ($m_{inf}$) más ajustado si la función no lineal que puede obtenerse de $m>\\frac{ {(y-1)}^n}{n \\cdot y^{n-1}} \\cdot \\frac{1}{\\left (1+\\left ( \\frac{n-1}{2} \\right ) \\cdot \\frac{1}{y}  \\right ) \\cdot m}$ , $f(m)=0 \\;,\\;  f(m)=m-\\frac{A}{(1+B) \\cdot m}$ donde\n",
        "\n",
        "$$ A = \\frac{ {(y-1)}^n}{n \\cdot y^{n-1}}\\: \\:, \\: \\: B = \\left ( \\frac{n-1}{2} \\right ) \\cdot \\frac{1}{y} $$\n",
        "\n",
        "\n"
      ]
    },
    {
      "cell_type": "code",
      "execution_count": 7,
      "id": "5acd1754-f244-4a57-bf14-ee8f1a28a196",
      "metadata": {
        "colab": {
          "base_uri": "https://localhost:8080/",
          "height": 315
        },
        "id": "5acd1754-f244-4a57-bf14-ee8f1a28a196",
        "outputId": "60d2524b-ddc8-4654-d429-11a7a26df954"
      },
      "outputs": [
        {
          "output_type": "stream",
          "name": "stdout",
          "text": [
            "Valor inicial de minf: 1.2131400900159017 y tras 20 iteraciones minf = 0.9851610635378809 \n",
            "Caso para n: 9625 e y:19251 ; datos: [1, 2, 3, 4, 5, 6, 7, 8]\n",
            "Caso para n: 9625 e y:19251 ; msup:3.297399719232226 [3] y minf:0.9851610635378809 [1]\n"
          ]
        },
        {
          "output_type": "display_data",
          "data": {
            "text/plain": [
              "<IPython.core.display.HTML object>"
            ],
            "text/html": [
              "<div style=\"font-size:14pt;\"><table>\n",
              "<thead>\n",
              "<tr><th style=\"text-align: right;\">   n</th><th style=\"text-align: right;\">    x</th><th style=\"text-align: right;\">    y</th><th style=\"text-align: right;\">    z</th><th>m  </th><th style=\"text-align: right;\">  ln(x^n+y^n)</th><th style=\"text-align: right;\">  ln(z^n)</th><th>¿z^n&gt;suma?  </th></tr>\n",
              "</thead>\n",
              "<tbody>\n",
              "<tr><td style=\"text-align: right;\">9625</td><td style=\"text-align: right;\">19250</td><td style=\"text-align: right;\">19251</td><td style=\"text-align: right;\">19252</td><td>inf</td><td style=\"text-align: right;\">      94954.2</td><td style=\"text-align: right;\">  94954.2</td><td>mayor       </td></tr>\n",
              "<tr><td style=\"text-align: right;\">9625</td><td style=\"text-align: right;\">19250</td><td style=\"text-align: right;\">19251</td><td style=\"text-align: right;\">19253</td><td>-  </td><td style=\"text-align: right;\">      94954.2</td><td style=\"text-align: right;\">  94954.7</td><td>mayor       </td></tr>\n",
              "<tr><td style=\"text-align: right;\">9625</td><td style=\"text-align: right;\">19250</td><td style=\"text-align: right;\">19251</td><td style=\"text-align: right;\">19254</td><td>sup</td><td style=\"text-align: right;\">      94954.2</td><td style=\"text-align: right;\">  94955.2</td><td>mayor       </td></tr>\n",
              "<tr><td style=\"text-align: right;\">9625</td><td style=\"text-align: right;\">19250</td><td style=\"text-align: right;\">19251</td><td style=\"text-align: right;\">19255</td><td>-  </td><td style=\"text-align: right;\">      94954.2</td><td style=\"text-align: right;\">  94955.7</td><td>mayor       </td></tr>\n",
              "<tr><td style=\"text-align: right;\">9625</td><td style=\"text-align: right;\">19250</td><td style=\"text-align: right;\">19251</td><td style=\"text-align: right;\">19256</td><td>-  </td><td style=\"text-align: right;\">      94954.2</td><td style=\"text-align: right;\">  94956.2</td><td>mayor       </td></tr>\n",
              "<tr><td style=\"text-align: right;\">9625</td><td style=\"text-align: right;\">19250</td><td style=\"text-align: right;\">19251</td><td style=\"text-align: right;\">19257</td><td>-  </td><td style=\"text-align: right;\">      94954.2</td><td style=\"text-align: right;\">  94956.7</td><td>mayor       </td></tr>\n",
              "<tr><td style=\"text-align: right;\">9625</td><td style=\"text-align: right;\">19250</td><td style=\"text-align: right;\">19251</td><td style=\"text-align: right;\">19258</td><td>-  </td><td style=\"text-align: right;\">      94954.2</td><td style=\"text-align: right;\">  94957.2</td><td>mayor       </td></tr>\n",
              "<tr><td style=\"text-align: right;\">9625</td><td style=\"text-align: right;\">19250</td><td style=\"text-align: right;\">19251</td><td style=\"text-align: right;\">19259</td><td>-  </td><td style=\"text-align: right;\">      94954.2</td><td style=\"text-align: right;\">  94957.7</td><td>mayor       </td></tr>\n",
              "</tbody>\n",
              "</table></div>"
            ]
          },
          "metadata": {}
        }
      ],
      "source": [
        "from IPython.display import HTML, display\n",
        "from tabulate import tabulate\n",
        "import random, math\n",
        "\n",
        "def generar_numero_aleatorio(a, b):\n",
        "    return random.randint(a, b)\n",
        "\n",
        "data=[]\n",
        "data2=[]\n",
        "\n",
        "# generamos el número n\n",
        "n = generar_numero_aleatorio(3,10000) # a partir de n=3\n",
        "# n = 52143 --> este caso comprueba que mejora el anterior código\n",
        "# n = 8\n",
        "# y = generar_numero_aleatorio(2*n+1,2*n+200) # y tiene que ser mayor que 2n\n",
        "y = 2*n+1\n",
        "# y = 104287 --> este caso comprueba que mejora el anterior código\n",
        "x = y -1\n",
        "\n",
        "# Los límites calculados para m.\n",
        "msup = (y**n)/(n*(y-1)**(n-1))\n",
        "\n",
        "# Calculo un límite inferior más ajustado usando el método de Newton\n",
        "A = ((y-1)**n)/(n*y**(n-1))\n",
        "B = (n-1)/(2*y)\n",
        "\n",
        "minf = A\n",
        "iteraciones = 20\n",
        "for i in range(0,iteraciones):\n",
        "    fm = minf - A/((1+B)*minf)\n",
        "    dfm = minf + A/((1+B)*minf*minf)\n",
        "    minf = minf - fm/dfm\n",
        "    # print(minf)\n",
        "\n",
        "print(f'Valor inicial de minf: {A} y tras {iteraciones} iteraciones minf = {minf} ')\n",
        "\n",
        "data2 = list(range(math.ceil(minf)-5,math.floor(msup)+5+1,1)) #rango 5 por abajo y 5 por arriba\n",
        "data2 = [x for x in data2 if x>0] # me quedo solo con los positivos\n",
        "\n",
        "print(f'Caso para n: {n} e y:{y} ; datos: {data2}')\n",
        "\n",
        "print(f'Caso para n: {n} e y:{y} ; msup:{msup} [{math.floor(msup)}] y minf:{minf} [{math.ceil(minf)}]')\n",
        "\n",
        "\n",
        "for m in data2: #por cada valor de m\n",
        "    z = y+m\n",
        "    valor = 'mayor' if z**n>x**n+y**n  else 'menor'\n",
        "    mm = 'inf' if m==math.ceil(minf) else 'sup' if m==math.floor(msup) else '-'\n",
        "    data.append([n,x,y,z,mm,math.log(x**n+y**n),math.log(z**n), valor])\n",
        "\n",
        "cadena = tabulate(data, headers=['n','x','y','z','m','ln(x^n+y^n)','ln(z^n)',\"¿z^n>suma?\"],tablefmt=\"html\")\n",
        "\n",
        "font_size = '14pt'\n",
        "html_code = f'<div style=\"font-size:{font_size};\">{cadena}</div>'\n",
        "display(HTML(html_code))"
      ]
    },
    {
      "cell_type": "markdown",
      "id": "ba0dc208-29ff-4d1f-8734-2f9f9956ddef",
      "metadata": {
        "id": "ba0dc208-29ff-4d1f-8734-2f9f9956ddef"
      },
      "source": [
        "* Generando números aleatorios con exponente hasta 10000, y siempre que y>2n (se puede tomar y=2n+1 o superior a este número), observo que la cota inferior calculada de 'm' o bien es 1, cumpliéndose que $(y+1)^n>(y-1)^n+y^n$ o bien 'm>1' cumpliéndose que  $(y+m)^n>(y-1)^n+y^n>(y+m-1)^n$. El término m-1 aparece siempre menor que la suma.\n",
        "* Se muestran los logaritmos de los términos elevados a 'n' por razones de espacio."
      ]
    }
  ],
  "metadata": {
    "author": "Tu Nombre",
    "authors": [
      {
        "name": "Aurelio"
      }
    ],
    "date": "Fecha de Creación",
    "description": "Descripción del Cuaderno",
    "hideCode": "true",
    "kernelspec": {
      "display_name": "Python 3 (ipykernel)",
      "language": "python",
      "name": "python3"
    },
    "language_info": {
      "codemirror_mode": {
        "name": "ipython",
        "version": 3
      },
      "file_extension": ".py",
      "mimetype": "text/x-python",
      "name": "python",
      "nbconvert_exporter": "python",
      "pygments_lexer": "ipython3",
      "version": "3.11.4"
    },
    "title": "Título del Cuaderno",
    "colab": {
      "provenance": [],
      "include_colab_link": true
    }
  },
  "nbformat": 4,
  "nbformat_minor": 5
}